{
 "cells": [
  {
   "cell_type": "code",
   "execution_count": 81,
   "id": "6033292f-0c3c-41ce-af62-68bd7ff28d31",
   "metadata": {},
   "outputs": [],
   "source": [
    "import pandas as pd\n",
    "import numpy as np\n",
    "import pingouin as pg\n",
    "import seaborn as sns\n",
    "import matplotlib.pyplot as plt\n",
    "import statsmodels.api as sm"
   ]
  },
  {
   "cell_type": "markdown",
   "id": "ffd4dae2-eb0d-426e-888b-67eb7ae1a9fe",
   "metadata": {},
   "source": [
    "## Задание\n",
    "\n",
    "##### Имеются результаты A/B теста, в котором двум группам пользователей предлагались различные наборы акционных предложений. Известно, что ARPU в тестовой группе выше на 5%, чем в контрольной.\n",
    "\n",
    "##### Какой набор предложений можно считать лучшим? Какие метрики стоит проанализировать для принятия правильного решения и как?"
   ]
  },
  {
   "cell_type": "code",
   "execution_count": 6,
   "id": "78725d6d-bea6-47e0-a5af-281b64987130",
   "metadata": {},
   "outputs": [],
   "source": [
    "df = pd.read_csv('C:/Users/M&M/Python/Задание_АВ-тест.csv', sep=';')"
   ]
  },
  {
   "cell_type": "code",
   "execution_count": null,
   "id": "203fd54e-ad5a-4784-8765-1abea00f6d06",
   "metadata": {},
   "outputs": [],
   "source": [
    "# Ниже применяю первичные методы для анализа датафрейма."
   ]
  },
  {
   "cell_type": "code",
   "execution_count": 7,
   "id": "6c629113-6f00-4908-b793-e76e375ef96b",
   "metadata": {},
   "outputs": [
    {
     "data": {
      "text/html": [
       "<div>\n",
       "<style scoped>\n",
       "    .dataframe tbody tr th:only-of-type {\n",
       "        vertical-align: middle;\n",
       "    }\n",
       "\n",
       "    .dataframe tbody tr th {\n",
       "        vertical-align: top;\n",
       "    }\n",
       "\n",
       "    .dataframe thead th {\n",
       "        text-align: right;\n",
       "    }\n",
       "</style>\n",
       "<table border=\"1\" class=\"dataframe\">\n",
       "  <thead>\n",
       "    <tr style=\"text-align: right;\">\n",
       "      <th></th>\n",
       "      <th>user_id</th>\n",
       "      <th>revenue</th>\n",
       "      <th>testgroup</th>\n",
       "    </tr>\n",
       "  </thead>\n",
       "  <tbody>\n",
       "    <tr>\n",
       "      <th>0</th>\n",
       "      <td>1</td>\n",
       "      <td>0</td>\n",
       "      <td>b</td>\n",
       "    </tr>\n",
       "    <tr>\n",
       "      <th>1</th>\n",
       "      <td>2</td>\n",
       "      <td>0</td>\n",
       "      <td>a</td>\n",
       "    </tr>\n",
       "    <tr>\n",
       "      <th>2</th>\n",
       "      <td>3</td>\n",
       "      <td>0</td>\n",
       "      <td>a</td>\n",
       "    </tr>\n",
       "    <tr>\n",
       "      <th>3</th>\n",
       "      <td>4</td>\n",
       "      <td>0</td>\n",
       "      <td>b</td>\n",
       "    </tr>\n",
       "    <tr>\n",
       "      <th>4</th>\n",
       "      <td>5</td>\n",
       "      <td>0</td>\n",
       "      <td>b</td>\n",
       "    </tr>\n",
       "  </tbody>\n",
       "</table>\n",
       "</div>"
      ],
      "text/plain": [
       "   user_id  revenue testgroup\n",
       "0        1        0         b\n",
       "1        2        0         a\n",
       "2        3        0         a\n",
       "3        4        0         b\n",
       "4        5        0         b"
      ]
     },
     "execution_count": 7,
     "metadata": {},
     "output_type": "execute_result"
    }
   ],
   "source": [
    "df.head()"
   ]
  },
  {
   "cell_type": "code",
   "execution_count": 8,
   "id": "c25c3112-283f-4f54-a6fc-7c686ac3bb82",
   "metadata": {},
   "outputs": [
    {
     "data": {
      "text/plain": [
       "(404770, 3)"
      ]
     },
     "execution_count": 8,
     "metadata": {},
     "output_type": "execute_result"
    }
   ],
   "source": [
    "df.shape"
   ]
  },
  {
   "cell_type": "code",
   "execution_count": 11,
   "id": "f1d22f5e-7855-4f65-a0e2-9c13f1cd7de8",
   "metadata": {},
   "outputs": [
    {
     "data": {
      "text/plain": [
       "user_id      404770\n",
       "revenue        1477\n",
       "testgroup         2\n",
       "dtype: int64"
      ]
     },
     "execution_count": 11,
     "metadata": {},
     "output_type": "execute_result"
    }
   ],
   "source": [
    "df.nunique()\n",
    "# Проверяем все ли user_id уникальные - сравниваю общим кол-вом строк в df.shape. И сколько тестовых групп. "
   ]
  },
  {
   "cell_type": "code",
   "execution_count": 12,
   "id": "a8063cc9-a39e-46b2-bf3a-0b529bfe1bd9",
   "metadata": {},
   "outputs": [
    {
     "name": "stdout",
     "output_type": "stream",
     "text": [
      "<class 'pandas.core.frame.DataFrame'>\n",
      "RangeIndex: 404770 entries, 0 to 404769\n",
      "Data columns (total 3 columns):\n",
      " #   Column     Non-Null Count   Dtype \n",
      "---  ------     --------------   ----- \n",
      " 0   user_id    404770 non-null  int64 \n",
      " 1   revenue    404770 non-null  int64 \n",
      " 2   testgroup  404770 non-null  object\n",
      "dtypes: int64(2), object(1)\n",
      "memory usage: 9.3+ MB\n"
     ]
    }
   ],
   "source": [
    "df.info()"
   ]
  },
  {
   "cell_type": "code",
   "execution_count": 14,
   "id": "29e089c1-63e9-409d-b092-895f62c373ee",
   "metadata": {},
   "outputs": [
    {
     "data": {
      "text/html": [
       "<div>\n",
       "<style scoped>\n",
       "    .dataframe tbody tr th:only-of-type {\n",
       "        vertical-align: middle;\n",
       "    }\n",
       "\n",
       "    .dataframe tbody tr th {\n",
       "        vertical-align: top;\n",
       "    }\n",
       "\n",
       "    .dataframe thead tr th {\n",
       "        text-align: left;\n",
       "    }\n",
       "\n",
       "    .dataframe thead tr:last-of-type th {\n",
       "        text-align: right;\n",
       "    }\n",
       "</style>\n",
       "<table border=\"1\" class=\"dataframe\">\n",
       "  <thead>\n",
       "    <tr>\n",
       "      <th></th>\n",
       "      <th colspan=\"9\" halign=\"left\">revenue</th>\n",
       "    </tr>\n",
       "    <tr>\n",
       "      <th></th>\n",
       "      <th>sum</th>\n",
       "      <th colspan=\"8\" halign=\"left\">describe</th>\n",
       "    </tr>\n",
       "    <tr>\n",
       "      <th></th>\n",
       "      <th>revenue</th>\n",
       "      <th>count</th>\n",
       "      <th>mean</th>\n",
       "      <th>std</th>\n",
       "      <th>min</th>\n",
       "      <th>25%</th>\n",
       "      <th>50%</th>\n",
       "      <th>75%</th>\n",
       "      <th>max</th>\n",
       "    </tr>\n",
       "    <tr>\n",
       "      <th>testgroup</th>\n",
       "      <th></th>\n",
       "      <th></th>\n",
       "      <th></th>\n",
       "      <th></th>\n",
       "      <th></th>\n",
       "      <th></th>\n",
       "      <th></th>\n",
       "      <th></th>\n",
       "      <th></th>\n",
       "    </tr>\n",
       "  </thead>\n",
       "  <tbody>\n",
       "    <tr>\n",
       "      <th>a</th>\n",
       "      <td>5136189</td>\n",
       "      <td>1928.0</td>\n",
       "      <td>2663.998444</td>\n",
       "      <td>9049.039763</td>\n",
       "      <td>200.0</td>\n",
       "      <td>257.0</td>\n",
       "      <td>311.0</td>\n",
       "      <td>361.0</td>\n",
       "      <td>37433.0</td>\n",
       "    </tr>\n",
       "    <tr>\n",
       "      <th>b</th>\n",
       "      <td>5421603</td>\n",
       "      <td>1805.0</td>\n",
       "      <td>3003.658172</td>\n",
       "      <td>572.619709</td>\n",
       "      <td>2000.0</td>\n",
       "      <td>2513.0</td>\n",
       "      <td>3022.0</td>\n",
       "      <td>3478.0</td>\n",
       "      <td>4000.0</td>\n",
       "    </tr>\n",
       "  </tbody>\n",
       "</table>\n",
       "</div>"
      ],
      "text/plain": [
       "           revenue                                                             \\\n",
       "               sum describe                                                     \n",
       "           revenue    count         mean          std     min     25%     50%   \n",
       "testgroup                                                                       \n",
       "a          5136189   1928.0  2663.998444  9049.039763   200.0   257.0   311.0   \n",
       "b          5421603   1805.0  3003.658172   572.619709  2000.0  2513.0  3022.0   \n",
       "\n",
       "                            \n",
       "                            \n",
       "              75%      max  \n",
       "testgroup                   \n",
       "a           361.0  37433.0  \n",
       "b          3478.0   4000.0  "
      ]
     },
     "execution_count": 14,
     "metadata": {},
     "output_type": "execute_result"
    }
   ],
   "source": [
    "# Вываодим базовые статистические показатели и общую сумма revenue по пользователям, которые совершили покупку в каждой группе.\n",
    "df.query('revenue != 0').groupby('testgroup').agg({'revenue': ['sum', 'describe']})"
   ]
  },
  {
   "cell_type": "code",
   "execution_count": null,
   "id": "871a5e05-9c44-4a61-86ef-c4b8c8da6e5b",
   "metadata": {},
   "outputs": [],
   "source": [
    "# В таблице выше отмечаю, что:\n",
    "# - в тестовой группе обзая сумма продаж , среднее и медианные значения выше чем в контрольной группе.\n",
    "# - отмечаю, что очень большое стандартное отклонение в контрольной группе. \n",
    "# - Среднее в тестовой группе очень сильно отличается от медианы. \n",
    "# - Макисмальное значение в контрльной группе почти в 10 раз больше чем в контрольной.\n",
    "# Данные выводы нужно проверить."
   ]
  },
  {
   "cell_type": "code",
   "execution_count": 25,
   "id": "a2087d30-2f96-43b6-a49e-383aae87c8e2",
   "metadata": {},
   "outputs": [
    {
     "data": {
      "text/plain": [
       "<Axes: ylabel='revenue'>"
      ]
     },
     "execution_count": 25,
     "metadata": {},
     "output_type": "execute_result"
    },
    {
     "data": {
      "image/png": "[encoded data removed]",
      "text/plain": [
       "<Figure size 400x800 with 1 Axes>"
      ]
     },
     "metadata": {},
     "output_type": "display_data"
    }
   ],
   "source": [
    "plt.figure(figsize=(4, 8))\n",
    "sns.boxplot(df[(df['testgroup'] == 'a') & (df['revenue'] > 0)].revenue)\n",
    "# На чарте видны выбросы revenue в контрольной группе, которые сильно искажают результаты."
   ]
  },
  {
   "cell_type": "code",
   "execution_count": 45,
   "id": "ef24ad2b-73dd-4fd1-ad5a-fe8ee3410375",
   "metadata": {},
   "outputs": [
    {
     "name": "stdout",
     "output_type": "stream",
     "text": [
      "Кол-во клинетов с revenue > 35 000 = 123\n",
      "Сумма revenue по этим клиентам 4590252.0\n",
      "Сумма revenue по этим клиентам составляет 89.37% от общей суммы контрольной группы.\n"
     ]
    }
   ],
   "source": [
    "control_extreme = df[(df['testgroup'] == 'a') & (df['revenue'] > 35000)]\n",
    "print(f'Кол-во клинетов с revenue > 35 000 = {int(control_extreme.user_id.nunique())}')\n",
    "print(f'Сумма revenue по этим клиентам {float(control_extreme.revenue.sum())}')\n",
    "print(f'Сумма revenue по этим клиентам составляет {round(control_extreme.revenue.sum() / df[df['testgroup']=='a'].revenue.sum()*100,2)}% от общей суммы контрольной группы.')"
   ]
  },
  {
   "cell_type": "markdown",
   "id": "596c00d0-81e0-415a-8571-4e37832b51b5",
   "metadata": {},
   "source": [
    "###### Необходимо проверить репрезентативность разделения на группы до проведения теста.\n",
    "######\n",
    "###### Для продолжения анализа из контрольной группы будут исключены найденые 123 пользователя с revenue > 35 000."
   ]
  },
  {
   "cell_type": "code",
   "execution_count": 48,
   "id": "68772e05-42b8-4922-9273-37256e565d8d",
   "metadata": {},
   "outputs": [],
   "source": [
    "df_new = df.query('revenue < 35000')"
   ]
  },
  {
   "cell_type": "code",
   "execution_count": 51,
   "id": "dd5a91e7-ec87-43fc-8425-d3731da3e741",
   "metadata": {},
   "outputs": [
    {
     "data": {
      "text/plain": [
       "-123"
      ]
     },
     "execution_count": 51,
     "metadata": {},
     "output_type": "execute_result"
    }
   ],
   "source": [
    "# Проверка сколько пользователей исключилось.\n",
    "df_new.shape[0] - df.shape[0]"
   ]
  },
  {
   "cell_type": "code",
   "execution_count": 52,
   "id": "d54fc597-f379-42a1-81e9-07a16fef26d1",
   "metadata": {},
   "outputs": [
    {
     "data": {
      "text/html": [
       "<div>\n",
       "<style scoped>\n",
       "    .dataframe tbody tr th:only-of-type {\n",
       "        vertical-align: middle;\n",
       "    }\n",
       "\n",
       "    .dataframe tbody tr th {\n",
       "        vertical-align: top;\n",
       "    }\n",
       "\n",
       "    .dataframe thead tr th {\n",
       "        text-align: left;\n",
       "    }\n",
       "\n",
       "    .dataframe thead tr:last-of-type th {\n",
       "        text-align: right;\n",
       "    }\n",
       "</style>\n",
       "<table border=\"1\" class=\"dataframe\">\n",
       "  <thead>\n",
       "    <tr>\n",
       "      <th></th>\n",
       "      <th colspan=\"9\" halign=\"left\">revenue</th>\n",
       "    </tr>\n",
       "    <tr>\n",
       "      <th></th>\n",
       "      <th>sum</th>\n",
       "      <th colspan=\"8\" halign=\"left\">describe</th>\n",
       "    </tr>\n",
       "    <tr>\n",
       "      <th></th>\n",
       "      <th>revenue</th>\n",
       "      <th>count</th>\n",
       "      <th>mean</th>\n",
       "      <th>std</th>\n",
       "      <th>min</th>\n",
       "      <th>25%</th>\n",
       "      <th>50%</th>\n",
       "      <th>75%</th>\n",
       "      <th>max</th>\n",
       "    </tr>\n",
       "    <tr>\n",
       "      <th>testgroup</th>\n",
       "      <th></th>\n",
       "      <th></th>\n",
       "      <th></th>\n",
       "      <th></th>\n",
       "      <th></th>\n",
       "      <th></th>\n",
       "      <th></th>\n",
       "      <th></th>\n",
       "      <th></th>\n",
       "    </tr>\n",
       "  </thead>\n",
       "  <tbody>\n",
       "    <tr>\n",
       "      <th>a</th>\n",
       "      <td>545937</td>\n",
       "      <td>1805.0</td>\n",
       "      <td>302.458172</td>\n",
       "      <td>57.914246</td>\n",
       "      <td>200.0</td>\n",
       "      <td>254.0</td>\n",
       "      <td>305.0</td>\n",
       "      <td>352.0</td>\n",
       "      <td>400.0</td>\n",
       "    </tr>\n",
       "    <tr>\n",
       "      <th>b</th>\n",
       "      <td>5421603</td>\n",
       "      <td>1805.0</td>\n",
       "      <td>3003.658172</td>\n",
       "      <td>572.619709</td>\n",
       "      <td>2000.0</td>\n",
       "      <td>2513.0</td>\n",
       "      <td>3022.0</td>\n",
       "      <td>3478.0</td>\n",
       "      <td>4000.0</td>\n",
       "    </tr>\n",
       "  </tbody>\n",
       "</table>\n",
       "</div>"
      ],
      "text/plain": [
       "           revenue                                                            \\\n",
       "               sum describe                                                    \n",
       "           revenue    count         mean         std     min     25%     50%   \n",
       "testgroup                                                                      \n",
       "a           545937   1805.0   302.458172   57.914246   200.0   254.0   305.0   \n",
       "b          5421603   1805.0  3003.658172  572.619709  2000.0  2513.0  3022.0   \n",
       "\n",
       "                           \n",
       "                           \n",
       "              75%     max  \n",
       "testgroup                  \n",
       "a           352.0   400.0  \n",
       "b          3478.0  4000.0  "
      ]
     },
     "execution_count": 52,
     "metadata": {},
     "output_type": "execute_result"
    }
   ],
   "source": [
    "# Повторяю проверку статитических показателей после чистки датафрейма.\n",
    "df_new.query('revenue != 0').groupby('testgroup').agg({'revenue': ['sum', 'describe']})"
   ]
  },
  {
   "cell_type": "code",
   "execution_count": 53,
   "id": "7aefe524-f5ff-4469-af94-b7e0d4896cce",
   "metadata": {},
   "outputs": [],
   "source": [
    "# Видим, что в контрольной группе значания стали более логичными. Также выровнялось кол-во пользователей между группами."
   ]
  },
  {
   "cell_type": "code",
   "execution_count": 77,
   "id": "82df2fe9-37d4-43ae-9538-e22c6730c383",
   "metadata": {},
   "outputs": [
    {
     "name": "stdout",
     "output_type": "stream",
     "text": [
      "ARPU контрольной группы 2\n",
      "ARPU тестовой группы 26\n",
      "\n",
      ">>Вывод: \u001b[1m ARPU в тестовой группе \"b\" больше на 1200.0% чем в контрольной группе \"a\".\n"
     ]
    }
   ],
   "source": [
    "# Проверим ARPU (Average Revenue Per User) для каждой группы. \n",
    "arpu_a = int(df_new[df_new['testgroup']=='a'].revenue.sum() / df_new[df_new['testgroup']=='a'].user_id.count())\n",
    "arpu_b = int(df_new[df_new['testgroup']=='b'].revenue.sum() / df_new[df_new['testgroup']=='b'].user_id.count())\n",
    "arpu_diff = round((arpu_b/arpu_a)*100-100,2)\n",
    "print(f'ARPU контрольной группы {arpu_a}')\n",
    "print(f'ARPU тестовой группы {arpu_b}')\n",
    "print('')\n",
    "print(f'>>Вывод: \\033[1m ARPU в тестовой группе \"b\" больше на {arpu_diff}% чем в контрольной группе \"a\".')"
   ]
  },
  {
   "cell_type": "code",
   "execution_count": 62,
   "id": "f2790f72-dccd-4bb4-96d2-082c79589134",
   "metadata": {},
   "outputs": [
    {
     "name": "stdout",
     "output_type": "stream",
     "text": [
      "Revenu контрльной группы 545,937\n",
      "Revenu тестовой группы 5 421 603\n",
      ">>Вывод: Разница в 10 раз.\n"
     ]
    }
   ],
   "source": [
    "total_revenue_a = df_new[df_new['testgroup']=='a'].revenue.sum()\n",
    "total_revenue_b = df_new[df_new['testgroup']=='b'].revenue.sum()\n",
    "import locale \n",
    "locale.setlocale(locale.LC_ALL, '')\n",
    "print(f'Revenu контрольной группы {total_revenue_a:,}')\n",
    "print(f'Revenu тестовой группы {locale.format_string(\"%d\", total_revenue_b, grouping=True)}')\n",
    "print(f'>>Вывод: Разница в 10 раз.')"
   ]
  },
  {
   "cell_type": "code",
   "execution_count": 78,
   "id": "3cce1821-6d9e-42c0-bcb2-a1fe313aa4a2",
   "metadata": {
    "scrolled": true
   },
   "outputs": [
    {
     "name": "stdout",
     "output_type": "stream",
     "text": [
      "Конверсия в контрольной группе = 0.894%\n",
      "Конверсия в тестовой группе = 0.891%\n",
      "\n",
      ">>Вывод: \u001b[1m Разница конверсии между группами -0.003%.\n"
     ]
    }
   ],
   "source": [
    "# Проверим конверсию.\n",
    "conversion_a = round(df_new[df_new['testgroup']=='a'].query('revenue != 0').user_id.count() / df_new[df_new['testgroup']=='a'].user_id.count() *100, 3)\n",
    "conversion_b = round(df_new[df_new['testgroup']=='b'].query('revenue != 0').user_id.count() / df_new[df_new['testgroup']=='b'].user_id.count() *100, 3)\n",
    "\n",
    "print(f'Конверсия в контрольной группе = {conversion_a}%')\n",
    "print(f'Конверсия в тестовой группе = {conversion_b}%')\n",
    "print('')\n",
    "print(f'>>Вывод: \\033[1m Разница конверсии между группами {round(conversion_b-conversion_a,3)}%. Проверим стат значимость разницы конверсии.')"
   ]
  },
  {
   "cell_type": "code",
   "execution_count": 88,
   "id": "f779be17-c743-461d-9ac9-aaa45dba10bc",
   "metadata": {},
   "outputs": [
    {
     "name": "stdout",
     "output_type": "stream",
     "text": [
      "Z-stat = 0.1024661880905615\n",
      "P-value = 0.9183866495500822\n"
     ]
    }
   ],
   "source": [
    "conversion_aa = df_new[(df_new['testgroup'] == 'a') & (df_new['revenue'] != 0)].user_id.nunique()\n",
    "conversion_bb = df_new[(df_new['testgroup'] == 'b') & (df_new['revenue'] != 0)].user_id.nunique()\n",
    "\n",
    "\n",
    "users_a = df_new[df_new['testgroup'] == 'a'].user_id.nunique()\n",
    "users_b = df_new[df_new['testgroup'] == 'b'].user_id.nunique()\n",
    "\n",
    "conversion = np.array([conversion_aa, conversion_bb])\n",
    "users = np.array([users_a, users_b])\n",
    "\n",
    "z_stat, p_value = sm.stats.proportions_ztest(conversion, users)\n",
    "\n",
    "print(f'Z-stat = {z_stat}')\n",
    "print(f'P-value = {p_value}')"
   ]
  },
  {
   "cell_type": "markdown",
   "id": "ddbe8a2d-8544-4f65-8e06-3e4322f8de44",
   "metadata": {},
   "source": [
    "#### Интерпритация результата Z-теста:\n",
    "##### Z-статистика близка к 0, что подтверждает минимальную разницу между группами.\n",
    "##### P-Value = 0.91 - значительно превышает порог статистической значимости эксперимента p < 0,05. Поэтому результат изменение в группе \"b\" можно считать статистически незначимым. Ухуджение конверсии скорее всего случайна."
   ]
  },
  {
   "cell_type": "markdown",
   "id": "9ff1af73-9380-4f23-8457-024486f31f77",
   "metadata": {},
   "source": [
    "##### Вывод: \n",
    "##### На основании этих данных можно сделать вывод, что изменение набора предложение не имеет статистической разницы. Поэтому применять изменение глобально не иммет смысла."
   ]
  },
  {
   "cell_type": "code",
   "execution_count": null,
   "id": "ceb6aa74-11b5-4ef7-bd6b-e820e551fa92",
   "metadata": {},
   "outputs": [],
   "source": []
  },
  {
   "cell_type": "code",
   "execution_count": null,
   "id": "0c6c00ac-68ad-4471-b8d4-e7645429deae",
   "metadata": {},
   "outputs": [],
   "source": []
  },
  {
   "cell_type": "code",
   "execution_count": null,
   "id": "20de03c2-c398-457c-87f9-751c97a999da",
   "metadata": {},
   "outputs": [],
   "source": []
  },
  {
   "cell_type": "code",
   "execution_count": null,
   "id": "9463c8e5-e61f-4497-b11a-a4ad6df14949",
   "metadata": {},
   "outputs": [],
   "source": []
  },
  {
   "cell_type": "code",
   "execution_count": null,
   "id": "170c0a6b-9cbb-4696-9edc-6ad60bce4880",
   "metadata": {},
   "outputs": [],
   "source": []
  },
  {
   "cell_type": "code",
   "execution_count": null,
   "id": "806d9082-e9cf-4eb1-ae00-78b6ef304d1b",
   "metadata": {},
   "outputs": [],
   "source": []
  },
  {
   "cell_type": "code",
   "execution_count": null,
   "id": "bc05fe1e-210e-4e4e-8179-d9858c43adf3",
   "metadata": {},
   "outputs": [],
   "source": []
  },
  {
   "cell_type": "code",
   "execution_count": null,
   "id": "d6241676-1b88-4770-9a18-f15e4efc769c",
   "metadata": {},
   "outputs": [],
   "source": []
  },
  {
   "cell_type": "code",
   "execution_count": null,
   "id": "b4261b0d-a20c-4170-a70a-45298056853d",
   "metadata": {},
   "outputs": [],
   "source": []
  },
  {
   "cell_type": "code",
   "execution_count": null,
   "id": "d53ac1f0-2624-4b02-90ed-b8e2b2dd8584",
   "metadata": {},
   "outputs": [],
   "source": []
  },
  {
   "cell_type": "code",
   "execution_count": null,
   "id": "e10e4085-ff6f-4f75-bbfe-180eef3b39ef",
   "metadata": {},
   "outputs": [],
   "source": []
  }
 ],
 "metadata": {
  "kernelspec": {
   "display_name": "Python 3 (ipykernel)",
   "language": "python",
   "name": "python3"
  },
  "language_info": {
   "codemirror_mode": {
    "name": "ipython",
    "version": 3
   },
   "file_extension": ".py",
   "mimetype": "text/x-python",
   "name": "python",
   "nbconvert_exporter": "python",
   "pygments_lexer": "ipython3",
   "version": "3.12.8"
  }
 },
 "nbformat": 4,
 "nbformat_minor": 5
}
